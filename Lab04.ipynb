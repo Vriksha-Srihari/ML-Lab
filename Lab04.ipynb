{
 "cells": [
  {
   "cell_type": "markdown",
   "metadata": {},
   "source": [
    "# Single Layer Perceptron"
   ]
  },
  {
   "cell_type": "code",
   "execution_count": 47,
   "metadata": {},
   "outputs": [],
   "source": [
    "import numpy as np"
   ]
  },
  {
   "cell_type": "code",
   "execution_count": 48,
   "metadata": {},
   "outputs": [],
   "source": [
    "class Perceptron(object):\n",
    "  def __init__(self, input_size, lr = 1, epochs = 10):\n",
    "    self.W = np.zeros(input_size + 1)\n",
    "    self.epochs = epochs\n",
    "    self.lr = lr\n",
    "  \n",
    "  def activation_fn(self, x):\n",
    "    return 1 if x >= 0 else 0\n",
    "\n",
    "  def predict(self, x):\n",
    "    z = self.W.T.dot(x)\n",
    "    a = self.activation_fn(z)\n",
    "    return a\n",
    "\n",
    "  def fit(self, X, d):\n",
    "    for _ in range(self.epochs):\n",
    "      for i in range(d.shape[0]):\n",
    "        x = np.insert(X[i], 0, 1)\n",
    "        y = self.predict(x)\n",
    "        e = d[i] - y\n",
    "        self.W = self.W + self.lr * e * x\n",
    "\n",
    "  def test(self, X, d):\n",
    "    p = np.zeros(d.shape[0])\n",
    "    print(\"Input\\tExpected\\tPredicted\")\n",
    "    for i in range(d.shape[0]):\n",
    "      x = np.insert(X[i], 0, 1)\n",
    "      t = self.predict(x)\n",
    "      print(X[i], \" \", d[i], \"\\t\\t\", t)\n",
    "      p[i] = t\n",
    "    return p"
   ]
  },
  {
   "cell_type": "markdown",
   "metadata": {},
   "source": [
    "### AND Gate"
   ]
  },
  {
   "cell_type": "code",
   "execution_count": 49,
   "metadata": {},
   "outputs": [
    {
     "name": "stdout",
     "output_type": "stream",
     "text": [
      "AND Gate with Single Layer Perceptron\n",
      "Trained Weights:  [-3.  2.  1.]\n",
      "Input\tExpected\tPredicted\n",
      "[0 0]   0 \t\t 0\n",
      "[0 1]   0 \t\t 0\n",
      "[1 0]   0 \t\t 0\n",
      "[1 1]   1 \t\t 1\n"
     ]
    }
   ],
   "source": [
    "# AND Gate\n",
    "if __name__ == '__main__':\n",
    "  X = np.array([\n",
    "                [0, 0],\n",
    "                [0, 1],\n",
    "                [1, 0],\n",
    "                [1, 1]\n",
    "  ])\n",
    "  d = np.array([0, 0, 0, 1])\n",
    "  print(\"AND Gate with Single Layer Perceptron\")\n",
    "  perceptron = Perceptron(input_size = 2)\n",
    "  perceptron.fit(X, d)\n",
    "  print(\"Trained Weights: \", perceptron.W)\n",
    "  p = perceptron.test(X, d)"
   ]
  },
  {
   "cell_type": "markdown",
   "metadata": {},
   "source": [
    "### OR Gate"
   ]
  },
  {
   "cell_type": "code",
   "execution_count": 50,
   "metadata": {},
   "outputs": [
    {
     "name": "stdout",
     "output_type": "stream",
     "text": [
      "OR Gate with Single Layer Perceptron\n",
      "Trained Weights:  [-1.  1.  1.]\n",
      "Input\tExpected\tPredicted\n",
      "[0 0]   0 \t\t 0\n",
      "[0 1]   1 \t\t 1\n",
      "[1 0]   1 \t\t 1\n",
      "[1 1]   1 \t\t 1\n"
     ]
    }
   ],
   "source": [
    "# OR Gate\n",
    "if __name__ == '__main__':\n",
    "  X = np.array([\n",
    "                [0, 0],\n",
    "                [0, 1],\n",
    "                [1, 0],\n",
    "                [1, 1]\n",
    "  ])\n",
    "  d = np.array([0, 1, 1, 1])\n",
    "  print(\"OR Gate with Single Layer Perceptron\")\n",
    "  perceptron = Perceptron(input_size = 2)\n",
    "  perceptron.fit(X, d)\n",
    "  print(\"Trained Weights: \", perceptron.W)\n",
    "  p = perceptron.test(X, d)"
   ]
  },
  {
   "cell_type": "markdown",
   "metadata": {},
   "source": [
    "# Multi Level Perceptron"
   ]
  },
  {
   "cell_type": "code",
   "execution_count": 51,
   "metadata": {},
   "outputs": [],
   "source": [
    "class mlp(object):\n",
    "  def __init__(self, input_dim, hidden_dim, output_dim, epochs = 10000, lr = 1.0):\n",
    "    self.W1 = np.random.random((input_dim, hidden_dim))\n",
    "    self.W2 = np.random.random((hidden_dim, output_dim))\n",
    "    self.epochs = epochs\n",
    "    self.lr = lr\n",
    "\n",
    "  def sigmoid(self, x):\n",
    "    return 1 / (1 + np.exp(-x))\n",
    "\n",
    "  def sigmoid_derivative(self, sx):\n",
    "    return sx * (1 - sx)\n",
    "\n",
    "  def cost(self, predicted, truth):\n",
    "    return truth - predicted\n",
    "\n",
    "  def fit(self, X, Y):\n",
    "        for epoch_n in range(self.epochs):\n",
    "            layer0 = X\n",
    "\n",
    "            # forward propagation\n",
    "            layer1 = self.sigmoid(np.dot(layer0, self.W1))\n",
    "            layer2 = self.sigmoid(np.dot(layer1, self.W2))\n",
    "\n",
    "            # back propagation (Y -> Layer2)\n",
    "            layer2_error = self.cost(layer2, Y)\n",
    "            layer2_delta = layer2_error * self.sigmoid_derivative(layer2)\n",
    "\n",
    "            # back propagation (Layer2 -> Layer1)\n",
    "            layer1_error = np.dot(layer2_delta, self.W2.T)\n",
    "            layer1_delta = layer1_error * self.sigmoid_derivative(layer1)\n",
    "\n",
    "            # update weights\n",
    "            self.W2 += self.lr * np.dot(layer1.T, layer2_delta)\n",
    "            self.W1 += self.lr * np.dot(layer0.T, layer1_delta)\n",
    "        \n",
    "  def predict(self, X, Y):\n",
    "        p = []\n",
    "        q = []\n",
    "        for x, y in zip(X, Y):\n",
    "            layer1_prediction = self.sigmoid(np.dot(self.W1.T, x))\n",
    "            prediction = layer2_prediction = self.sigmoid(np.dot(self.W2.T, layer1_prediction))\n",
    "            print(prediction, \"\\t\", int(prediction > 0.5), \"\\t\\t\\t\", y)\n",
    "            p.append(prediction)\n",
    "        return p\n",
    "    \n",
    "  def weights(self):\n",
    "        print(\"W1 = \", self.W1)\n",
    "        print(\"W2 = \", self.W2)"
   ]
  },
  {
   "cell_type": "markdown",
   "metadata": {},
   "source": [
    "### XOR Gate"
   ]
  },
  {
   "cell_type": "code",
   "execution_count": 52,
   "metadata": {},
   "outputs": [
    {
     "name": "stdout",
     "output_type": "stream",
     "text": [
      "Multi Layer Perceptron for XOR Gate\n",
      "Fitted Weights: \n",
      "W1 =  [[-0.97783649  6.79120311  5.70149054  1.97617972 -3.5294332 ]\n",
      " [-0.84739682 -3.25204112  5.6726249  -0.98366558  7.27426187]]\n",
      "W2 =  [[-3.04226043]\n",
      " [-8.26266439]\n",
      " [15.87940663]\n",
      " [-2.75622782]\n",
      " [-9.77465804]]\n",
      "Model's Prediction\n",
      "Output Value\tRounded Up Output\tExpected Value\n",
      "[0.01837529] \t 0 \t\t\t [0]\n",
      "[0.98347994] \t 1 \t\t\t [1]\n",
      "[0.9827486] \t 1 \t\t\t [1]\n",
      "[0.01579106] \t 0 \t\t\t [0]\n"
     ]
    }
   ],
   "source": [
    "xor_input = np.array([\n",
    "                [0, 0],\n",
    "                [0, 1],\n",
    "                [1, 0],\n",
    "                [1, 1]\n",
    "  ])\n",
    "xor_output = np.array([[0, 1, 1, 0]]).T\n",
    "\n",
    "X = xor_input\n",
    "Y = xor_output\n",
    "\n",
    "print(\"Multi Layer Perceptron for XOR Gate\")\n",
    "perceptron = mlp(input_dim = 2, hidden_dim = 5, output_dim = 1)\n",
    "perceptron.fit(X, Y)\n",
    "print(\"Fitted Weights: \")\n",
    "perceptron.weights()\n",
    "print(\"Model's Prediction\")\n",
    "print(\"Output Value\\tRounded Up Output\\tExpected Value\")\n",
    "p = perceptron.predict(X, Y)"
   ]
  },
  {
   "cell_type": "markdown",
   "metadata": {},
   "source": [
    "### Using dataset"
   ]
  },
  {
   "cell_type": "code",
   "execution_count": 53,
   "metadata": {},
   "outputs": [],
   "source": [
    "class mlp(object):\n",
    "  def __init__(self, input_dim, hidden_dim, output_dim, epochs = 10000, lr = 1.0):\n",
    "    self.W1 = np.random.random((input_dim, hidden_dim))\n",
    "    self.W2 = np.random.random((hidden_dim, output_dim))\n",
    "    self.epochs = epochs\n",
    "    self.lr = lr\n",
    "\n",
    "  def sigmoid(self, x):\n",
    "    return 1 / (1 + np.exp(-x))\n",
    "\n",
    "  def sigmoid_derivative(self, sx):\n",
    "    return sx * (1 - sx)\n",
    "\n",
    "  def cost(self, predicted, truth):\n",
    "    for i in range(len(predicted)):\n",
    "        return 0 if truth[i] == predicted[i] else 1\n",
    "\n",
    "  def fit(self, X, Y):\n",
    "        for epoch_n in range(self.epochs):\n",
    "            layer0 = X\n",
    "\n",
    "            # forward propagation\n",
    "            layer1 = self.sigmoid(np.dot(layer0, self.W1))\n",
    "            layer2 = self.sigmoid(np.dot(layer1, self.W2))\n",
    "\n",
    "            # back propagation (Y -> Layer2)\n",
    "            layer2_error = self.cost(layer2, Y)\n",
    "            layer2_delta = layer2_error * self.sigmoid_derivative(layer2)\n",
    "\n",
    "            # back propagation (Layer2 -> Layer1)\n",
    "            layer1_error = np.dot(layer2_delta, self.W2.T)\n",
    "            layer1_delta = layer1_error * self.sigmoid_derivative(layer1)\n",
    "\n",
    "            # update weights\n",
    "            self.W2 += self.lr * np.dot(layer1.T, layer2_delta)\n",
    "            self.W1 += self.lr * np.dot(layer0.T, layer1_delta)\n",
    "        \n",
    "  def predict(self, X, Y):\n",
    "        p = []\n",
    "        q = []\n",
    "        for x, y in zip(X, Y):\n",
    "            layer1_prediction = self.sigmoid(np.dot(self.W1.T, x))\n",
    "            prediction = layer2_prediction = self.sigmoid(np.dot(self.W2.T, layer1_prediction))\n",
    "            print(prediction, \"\\t\", int(prediction > 0.5), \"\\t\\t\\t\", y)\n",
    "            p.append(prediction)\n",
    "        return p\n",
    "    \n",
    "  def weights(self):\n",
    "        print(\"W1 = \", self.W1)\n",
    "        print(\"W2 = \", self.W2)"
   ]
  },
  {
   "cell_type": "code",
   "execution_count": 54,
   "metadata": {},
   "outputs": [
    {
     "name": "stdout",
     "output_type": "stream",
     "text": [
      "/home/mona/3074 ML Lab/Datasets\n"
     ]
    }
   ],
   "source": [
    "%cd \"/home/mona/3074 ML Lab/Datasets\""
   ]
  },
  {
   "cell_type": "code",
   "execution_count": 55,
   "metadata": {},
   "outputs": [],
   "source": [
    "import pandas as pd\n",
    "\n",
    "# read data\n",
    "data = pd.read_csv('iris_data.csv')"
   ]
  },
  {
   "cell_type": "code",
   "execution_count": 56,
   "metadata": {},
   "outputs": [],
   "source": [
    "from sklearn.model_selection import train_test_split\n",
    "from sklearn.preprocessing import StandardScaler\n",
    "\n",
    "x_train, x_test, y_train, y_test = train_test_split(np.array(data)[:, :-1], np.array(data)[:, -1], test_size = 0.20)\n",
    "scaler = StandardScaler()\n",
    "scaler.fit(x_train)\n",
    "x_train = scaler.transform(x_train)\n",
    "x_test = scaler.transform(x_test)"
   ]
  },
  {
   "cell_type": "code",
   "execution_count": 57,
   "metadata": {},
   "outputs": [
    {
     "name": "stdout",
     "output_type": "stream",
     "text": [
      "Multi Layer Perceptron for Iris dataset\n"
     ]
    },
    {
     "name": "stderr",
     "output_type": "stream",
     "text": [
      "/home/mona/anaconda3/lib/python3.7/site-packages/ipykernel_launcher.py:16: FutureWarning: elementwise comparison failed; returning scalar instead, but in the future will perform elementwise comparison\n",
      "  app.launch_new_instance()\n"
     ]
    },
    {
     "name": "stdout",
     "output_type": "stream",
     "text": [
      "Fitted Weights: \n",
      "W1 =  [[-0.19603998 -0.53179729 -0.69940481  0.19689996  0.54224889]\n",
      " [-0.13286565  0.39914312  0.83186882  0.80475239 -0.23030045]\n",
      " [-0.00849795  0.28708687 -0.68534733 -0.37075754  0.75715295]\n",
      " [ 0.32547601 -0.0239827  -0.6030347   0.39246717  0.39589072]]\n",
      "W2 =  [[8.52287903]\n",
      " [7.94341417]\n",
      " [8.90046613]\n",
      " [7.66362679]\n",
      " [7.71622188]]\n",
      "Model's Prediction\n",
      "Output Value\tRounded Up Output\tExpected Value\n",
      "[1.] \t 1 \t\t\t setosa\n",
      "[1.] \t 1 \t\t\t setosa\n",
      "[0.99999998] \t 1 \t\t\t versicolor\n",
      "[1.] \t 1 \t\t\t setosa\n",
      "[0.99999999] \t 1 \t\t\t virginica\n",
      "[1.] \t 1 \t\t\t virginica\n",
      "[0.9999999] \t 1 \t\t\t versicolor\n",
      "[1.] \t 1 \t\t\t virginica\n",
      "[1.] \t 1 \t\t\t virginica\n",
      "[1.] \t 1 \t\t\t setosa\n",
      "[0.99999999] \t 1 \t\t\t versicolor\n",
      "[1.] \t 1 \t\t\t versicolor\n",
      "[1.] \t 1 \t\t\t setosa\n",
      "[1.] \t 1 \t\t\t setosa\n",
      "[1.] \t 1 \t\t\t versicolor\n",
      "[1.] \t 1 \t\t\t setosa\n",
      "[0.99999993] \t 1 \t\t\t versicolor\n",
      "[1.] \t 1 \t\t\t virginica\n",
      "[0.99999999] \t 1 \t\t\t virginica\n",
      "[0.99999991] \t 1 \t\t\t versicolor\n",
      "[0.99999999] \t 1 \t\t\t versicolor\n",
      "[0.99999997] \t 1 \t\t\t virginica\n",
      "[1.] \t 1 \t\t\t virginica\n",
      "[1.] \t 1 \t\t\t virginica\n",
      "[1.] \t 1 \t\t\t setosa\n",
      "[1.] \t 1 \t\t\t versicolor\n",
      "[0.99999999] \t 1 \t\t\t virginica\n",
      "[1.] \t 1 \t\t\t setosa\n",
      "[0.99999999] \t 1 \t\t\t versicolor\n",
      "[1.] \t 1 \t\t\t virginica\n"
     ]
    }
   ],
   "source": [
    "print(\"Multi Layer Perceptron for Iris dataset\")\n",
    "perceptron = mlp(input_dim = 4, hidden_dim = 5, output_dim = 1)\n",
    "perceptron.fit(x_train, y_train)\n",
    "print(\"Fitted Weights: \")\n",
    "perceptron.weights()\n",
    "print(\"Model's Prediction\")\n",
    "print(\"Output Value\\tRounded Up Output\\tExpected Value\")\n",
    "p = perceptron.predict(x_test, y_test)"
   ]
  },
  {
   "cell_type": "markdown",
   "metadata": {},
   "source": [
    "# Spot\n",
    "Train a single layer perceptronto classify whether a fruit presented to the perceptron is going to be liked by a certain  person or not, based on three features attributed to the  presented fruit: its  taste  (whether  it  is  sweet  or  not),  its  seeds  (whether  they  are  edible  or  not)  and  its skin (whether it is edible or not). Consider the following table for the inputs and the  target output of the  perceptron.  Since  there  are  three  (binary)  input  values  (taste,  seeds  and  skin)  and  one (binary) target output, construct a single-layer perceptronwith three inputs and one output."
   ]
  },
  {
   "cell_type": "code",
   "execution_count": 58,
   "metadata": {},
   "outputs": [],
   "source": [
    "import numpy as np"
   ]
  },
  {
   "cell_type": "code",
   "execution_count": 67,
   "metadata": {},
   "outputs": [],
   "source": [
    "class Perceptron(object):\n",
    "  def __init__(self, input_size, lr = 1, epochs = 20):\n",
    "    self.W = np.zeros(input_size + 1)\n",
    "    self.epochs = epochs\n",
    "    self.lr = lr\n",
    "  \n",
    "  def activation_fn(self, x):\n",
    "    return 1 if x >= 0 else 0\n",
    "\n",
    "  def predict(self, x):\n",
    "    z = self.W.T.dot(x)\n",
    "    a = self.activation_fn(z)\n",
    "    return a\n",
    "\n",
    "  def fit(self, X, d):\n",
    "    for _ in range(self.epochs):\n",
    "      for i in range(d.shape[0]):\n",
    "        x = np.insert(X[i], 0, 1)\n",
    "        y = self.predict(x)\n",
    "        e = d[i] - y\n",
    "        self.W = self.W + self.lr * e * x\n",
    "\n",
    "  def test(self, X, d):\n",
    "    p = np.zeros(d.shape[0])\n",
    "    print(\"Input\\tExpected\\tPredicted\")\n",
    "    for i in range(d.shape[0]):\n",
    "      x = np.insert(X[i], 0, 1)\n",
    "      t = self.predict(x)\n",
    "      print(X[i], \" \", d[i], \"\\t\\t\", t)\n",
    "      p[i] = t\n",
    "    return p"
   ]
  },
  {
   "cell_type": "code",
   "execution_count": 68,
   "metadata": {},
   "outputs": [
    {
     "name": "stdout",
     "output_type": "stream",
     "text": [
      "/home/mona/3074 ML Lab/Datasets\n"
     ]
    }
   ],
   "source": [
    "%cd \"/home/mona/3074 ML Lab/Datasets\""
   ]
  },
  {
   "cell_type": "code",
   "execution_count": 74,
   "metadata": {},
   "outputs": [
    {
     "data": {
      "text/html": [
       "<div>\n",
       "<style scoped>\n",
       "    .dataframe tbody tr th:only-of-type {\n",
       "        vertical-align: middle;\n",
       "    }\n",
       "\n",
       "    .dataframe tbody tr th {\n",
       "        vertical-align: top;\n",
       "    }\n",
       "\n",
       "    .dataframe thead th {\n",
       "        text-align: right;\n",
       "    }\n",
       "</style>\n",
       "<table border=\"1\" class=\"dataframe\">\n",
       "  <thead>\n",
       "    <tr style=\"text-align: right;\">\n",
       "      <th></th>\n",
       "      <th>Fruit</th>\n",
       "      <th>Taste</th>\n",
       "      <th>Seeds</th>\n",
       "      <th>Skin</th>\n",
       "      <th>Target</th>\n",
       "    </tr>\n",
       "  </thead>\n",
       "  <tbody>\n",
       "    <tr>\n",
       "      <th>0</th>\n",
       "      <td>Banana</td>\n",
       "      <td>1</td>\n",
       "      <td>1</td>\n",
       "      <td>0</td>\n",
       "      <td>1</td>\n",
       "    </tr>\n",
       "    <tr>\n",
       "      <th>1</th>\n",
       "      <td>Pear</td>\n",
       "      <td>1</td>\n",
       "      <td>0</td>\n",
       "      <td>1</td>\n",
       "      <td>1</td>\n",
       "    </tr>\n",
       "    <tr>\n",
       "      <th>2</th>\n",
       "      <td>Lemon</td>\n",
       "      <td>0</td>\n",
       "      <td>0</td>\n",
       "      <td>0</td>\n",
       "      <td>0</td>\n",
       "    </tr>\n",
       "    <tr>\n",
       "      <th>3</th>\n",
       "      <td>Strawberry</td>\n",
       "      <td>1</td>\n",
       "      <td>1</td>\n",
       "      <td>1</td>\n",
       "      <td>1</td>\n",
       "    </tr>\n",
       "    <tr>\n",
       "      <th>4</th>\n",
       "      <td>Green Apple</td>\n",
       "      <td>0</td>\n",
       "      <td>0</td>\n",
       "      <td>1</td>\n",
       "      <td>0</td>\n",
       "    </tr>\n",
       "  </tbody>\n",
       "</table>\n",
       "</div>"
      ],
      "text/plain": [
       "         Fruit  Taste  Seeds  Skin  Target\n",
       "0       Banana      1      1     0       1\n",
       "1         Pear      1      0     1       1\n",
       "2        Lemon      0      0     0       0\n",
       "3   Strawberry      1      1     1       1\n",
       "4  Green Apple      0      0     1       0"
      ]
     },
     "execution_count": 74,
     "metadata": {},
     "output_type": "execute_result"
    }
   ],
   "source": [
    "import pandas as pd\n",
    "\n",
    "# read data\n",
    "data = pd.read_csv('fruits.csv')\n",
    "data"
   ]
  },
  {
   "cell_type": "code",
   "execution_count": 75,
   "metadata": {},
   "outputs": [
    {
     "name": "stdout",
     "output_type": "stream",
     "text": [
      "[[1 1 0]\n",
      " [1 0 1]\n",
      " [0 0 0]\n",
      " [1 1 1]\n",
      " [0 0 1]] [1 1 0 1 0]\n"
     ]
    }
   ],
   "source": [
    "# classifying if fruits would be liked\n",
    "if __name__ == '__main__':\n",
    "  X = np.array(data.iloc[:, 1:4])\n",
    "  d = np.array(data.iloc[:, -1])"
   ]
  },
  {
   "cell_type": "code",
   "execution_count": 76,
   "metadata": {},
   "outputs": [
    {
     "name": "stdout",
     "output_type": "stream",
     "text": [
      "Classifying Fruit Preferences with Single Layer Perceptron\n",
      "Trained Weights:  [-1.  1.  1.  0.]\n",
      "Input\tExpected\tPredicted\n",
      "[1 1 0]   1 \t\t 1\n",
      "[1 0 1]   1 \t\t 1\n",
      "[0 0 0]   0 \t\t 0\n",
      "[1 1 1]   1 \t\t 1\n",
      "[0 0 1]   0 \t\t 0\n"
     ]
    }
   ],
   "source": [
    "  print(\"Classifying Fruit Preferences with Single Layer Perceptron\")\n",
    "  perceptron = Perceptron(input_size = 3)\n",
    "  perceptron.fit(X, d)\n",
    "  print(\"Trained Weights: \", perceptron.W)\n",
    "  p = perceptron.test(X, d)"
   ]
  },
  {
   "cell_type": "code",
   "execution_count": null,
   "metadata": {},
   "outputs": [],
   "source": []
  }
 ],
 "metadata": {
  "kernelspec": {
   "display_name": "Python 3",
   "language": "python",
   "name": "python3"
  },
  "language_info": {
   "codemirror_mode": {
    "name": "ipython",
    "version": 3
   },
   "file_extension": ".py",
   "mimetype": "text/x-python",
   "name": "python",
   "nbconvert_exporter": "python",
   "pygments_lexer": "ipython3",
   "version": "3.7.6"
  }
 },
 "nbformat": 4,
 "nbformat_minor": 4
}
