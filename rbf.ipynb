{
 "cells": [
  {
   "cell_type": "code",
   "execution_count": 1,
   "metadata": {},
   "outputs": [],
   "source": [
    "import numpy as np\n",
    "import pcn              #using perceptron network\n",
    "import kmeans           # and kmeans clustering algorithm\n",
    "\n",
    "class rbf:\n",
    "    \n",
    "\n",
    "    def __init__(self,inputs,targets,nRBF,sigma=0,usekmeans=0,normalise=0):\n",
    "        self.nin = np.shape(inputs)[1]\n",
    "        self.nout = np.shape(targets)[1]\n",
    "        self.ndata = np.shape(inputs)[0]\n",
    "        self.nRBF = nRBF\n",
    "        self.usekmeans = usekmeans\n",
    "        self.normalise = normalise\n",
    "        \n",
    "        if usekmeans:\n",
    "            self.kmeansnet = kmeans.kmeans(self.nRBF,inputs)\n",
    "            \n",
    "        self.hidden = np.zeros((self.ndata,self.nRBF+1))\n",
    "        \n",
    "        if sigma==0:\n",
    "            # Set width of Gaussians\n",
    "            d = (inputs.max(axis=0)-inputs.min(axis=0)).max()\n",
    "            self.sigma = d/np.sqrt(2*nRBF)  \n",
    "        else:\n",
    "            self.sigma = sigma\n",
    "                \n",
    "        self.perceptron = pcn.pcn(self.hidden[:,:-1],targets)\n",
    "        \n",
    "        # Initialise network\n",
    "        self.weights1 = np.zeros((self.nin,self.nRBF))\n",
    "        \n",
    "    def rbftrain(self,inputs,targets,eta=0.25,niterations=100):\n",
    "        if self.usekmeans==0:\n",
    "            # Version 1: set RBFs to be datapoints\n",
    "            indices = range(self.ndata)\n",
    "            np.random.shuffle(indices)\n",
    "            for i in range(self.nRBF):\n",
    "                self.weights1[:,i] = inputs[indices[i],:]\n",
    "        else:\n",
    "            # Version 2: use k-means\n",
    "            self.weights1 = np.transpose(self.kmeansnet.kmeanstrain(inputs))\n",
    "\n",
    "        for i in range(self.nRBF):\n",
    "            self.hidden[:,i] = np.exp(-np.sum((inputs - np.ones((1,self.nin))*self.weights1[:,i])**2,axis=1)/(2*self.sigma**2))\n",
    "        if self.normalise:\n",
    "            self.hidden[:,:-1] /= np.transpose(np.ones((1,np.shape(self.hidden)[0]))*self.hidden[:,:-1].sum(axis=1))\n",
    "        \n",
    "        # Call Perceptron without bias node (since it adds its own)\n",
    "        self.perceptron.pcntrain(self.hidden[:,:-1],targets,eta,niterations)\n",
    "        \n",
    "    def rbffwd(self,inputs):\n",
    "\n",
    "        hidden = np.zeros((np.shape(inputs)[0],self.nRBF+1))\n",
    "\n",
    "        for i in range(self.nRBF):\n",
    "            hidden[:,i] = np.exp(-np.sum((inputs - np.ones((1,self.nin))*self.weights1[:,i])**2,axis=1)/(2*self.sigma**2))\n",
    "\n",
    "        if self.normalise:\n",
    "            hidden[:,:-1] /= np.transpose(np.ones((1,np.shape(hidden)[0]))*hidden[:,:-1].sum(axis=1))\n",
    "        \n",
    "        # Add the bias\n",
    "        hidden[:,-1] = -1\n",
    "        outputs = self.perceptron.pcnfwd(hidden)\n",
    "        return outputs\n",
    "    \n",
    "    def confmat(self,inputs,targets):\n",
    "        \"\"\"Confusion matrix\"\"\"\n",
    "\n",
    "        outputs = self.rbffwd(inputs)\n",
    "        nClasses = np.shape(targets)[1]\n",
    "\n",
    "        if nClasses==1:\n",
    "            nClasses = 2\n",
    "            outputs = np.where(outputs>0,1,0)\n",
    "        else:\n",
    "            # 1-of-N encoding\n",
    "            outputs = np.argmax(outputs,1)\n",
    "            targets = np.argmax(targets,1)\n",
    "\n",
    "        cm = np.zeros((nClasses,nClasses))\n",
    "        for i in range(nClasses):\n",
    "            for j in range(nClasses):\n",
    "                cm[i,j] = np.sum(np.where(outputs==i,1,0)*np.where(targets==j,1,0))\n",
    "\n",
    "        output = cm\n",
    "        print(\"Confusion matrix is:\")\n",
    "        print(cm)\n",
    "        print(\"Percentage Correct: \", np.trace(cm) / np.sum(cm) * 100)\n",
    "        return output"
   ]
  },
  {
   "cell_type": "code",
   "execution_count": 2,
   "metadata": {},
   "outputs": [
    {
     "name": "stdout",
     "output_type": "stream",
     "text": [
      "[[ 0.49880026  0.61144219 -0.25438505  0.20451374  0.        ]\n",
      " [ 0.64342405  0.56622605 -0.23328978 -0.07427406  0.        ]\n",
      " [ 0.53704115 -0.4135054   0.03185603  0.3565094   0.        ]\n",
      " [ 0.47298296  0.68911749 -0.32721727 -0.6598847   0.        ]\n",
      " [-0.01635021 -0.57824013  0.19202762  0.05571211  0.        ]]\n"
     ]
    }
   ],
   "source": [
    "iris = np.loadtxt('banknote.csv',delimiter=',')\n",
    "iris[:,:4] = iris[:,:4]-iris[:,:4].mean(axis=0)\n",
    "imax = np.concatenate((iris.max(axis=0)*np.ones((1,5)),iris.min(axis=0)*np.ones((1,5))),axis=0).max(axis=0)\n",
    "iris[:,:4] = iris[:,:4]/imax[:4]\n",
    "print (iris[0:5,:])"
   ]
  },
  {
   "cell_type": "code",
   "execution_count": 3,
   "metadata": {},
   "outputs": [
    {
     "data": {
      "text/plain": [
       "(1372, 5)"
      ]
     },
     "execution_count": 3,
     "metadata": {},
     "output_type": "execute_result"
    }
   ],
   "source": [
    "iris.shape"
   ]
  },
  {
   "cell_type": "code",
   "execution_count": 4,
   "metadata": {},
   "outputs": [
    {
     "data": {
      "text/plain": [
       "'\\nindices = np.where(iris[:,9]==2)\\ntarget[indices,2] = 1\\nindices = np.where(iris[:,9]==3) \\ntarget[indices,0] = 1\\nindices = np.where(iris[:,9]==4)\\ntarget[indices,1] = 1\\nindices = np.where(iris[:,9]==5)\\ntarget[indices,2] = 1\\nindices = np.where(iris[:,9]==5)\\ntarget[indices,2] = 1\\n'"
      ]
     },
     "execution_count": 4,
     "metadata": {},
     "output_type": "execute_result"
    }
   ],
   "source": [
    "target = np.zeros((np.shape(iris)[0], 2))\n",
    "indices = np.where(iris[:,4]==0) \n",
    "target[indices,0] = 1\n",
    "indices = np.where(iris[:,4]==1)\n",
    "target[indices,1] = 1\n",
    "'''\n",
    "indices = np.where(iris[:,9]==2)\n",
    "target[indices,2] = 1\n",
    "indices = np.where(iris[:,9]==3) \n",
    "target[indices,0] = 1\n",
    "indices = np.where(iris[:,9]==4)\n",
    "target[indices,1] = 1\n",
    "indices = np.where(iris[:,9]==5)\n",
    "target[indices,2] = 1\n",
    "indices = np.where(iris[:,9]==5)\n",
    "target[indices,2] = 1\n",
    "'''\n"
   ]
  },
  {
   "cell_type": "code",
   "execution_count": 5,
   "metadata": {},
   "outputs": [],
   "source": [
    "order = np.arange(np.shape(iris)[0])\n",
    "np.random.shuffle(order)\n",
    "iris = iris[order,:]\n",
    "target = target[order,:]"
   ]
  },
  {
   "cell_type": "code",
   "execution_count": 6,
   "metadata": {},
   "outputs": [],
   "source": [
    "train = iris[::2,0:4]\n",
    "traint = target[::2]\n",
    "valid = iris[1::4,0:4]\n",
    "validt = target[1::4]\n",
    "test = iris[3::4,0:4]\n",
    "testt = target[3::4]\n"
   ]
  },
  {
   "cell_type": "code",
   "execution_count": 7,
   "metadata": {},
   "outputs": [
    {
     "name": "stdout",
     "output_type": "stream",
     "text": [
      "[1. 1. 1. 1.] [-1.16973236 -1.42307569 -0.40284444 -1.83464881]\n"
     ]
    }
   ],
   "source": [
    "print (train.max(axis=0), train.min(axis=0))"
   ]
  },
  {
   "cell_type": "code",
   "execution_count": 8,
   "metadata": {},
   "outputs": [
    {
     "name": "stdout",
     "output_type": "stream",
     "text": [
      "Train data:-\n",
      "Confusion matrix is:\n",
      "[[363. 110.]\n",
      " [  5. 208.]]\n",
      "Percentage Correct:  83.23615160349854\n",
      "Test data:-\n",
      "Confusion matrix is:\n",
      "[[186.  53.]\n",
      " [  5.  99.]]\n",
      "Percentage Correct:  83.09037900874635\n"
     ]
    }
   ],
   "source": [
    "net = rbf(train,traint,5,1,1)\n",
    "\n",
    "net.rbftrain(train,traint,0.25,5000)\n",
    "print(\"Train data:-\")\n",
    "net.confmat(train,traint)\n",
    "print(\"Test data:-\")\n",
    "cm = net.confmat(test,testt)"
   ]
  },
  {
   "cell_type": "code",
   "execution_count": 9,
   "metadata": {},
   "outputs": [
    {
     "data": {
      "text/plain": [
       "array([[186.,  53.],\n",
       "       [  5.,  99.]])"
      ]
     },
     "execution_count": 9,
     "metadata": {},
     "output_type": "execute_result"
    }
   ],
   "source": [
    "cm"
   ]
  },
  {
   "cell_type": "code",
   "execution_count": 10,
   "metadata": {},
   "outputs": [
    {
     "data": {
      "image/png": "[encoded data removed]",
      "text/plain": [
       "<Figure size 720x504 with 2 Axes>"
      ]
     },
     "metadata": {
      "needs_background": "light"
     },
     "output_type": "display_data"
    }
   ],
   "source": [
    "import seaborn as sn\n",
    "import pandas as pd\n",
    "import matplotlib.pyplot as plt\n",
    "\n",
    "cm = np.array(cm)\n",
    "df_cm = pd.DataFrame(cm)\n",
    "plt.figure(figsize=(10,7))\n",
    "sn.set(font_scale=1.4)  # for label size\n",
    "sn.heatmap(df_cm, annot=True, annot_kws={\"size\": 14})  # font size\n",
    "plt.show()"
   ]
  },
  {
   "cell_type": "code",
   "execution_count": 11,
   "metadata": {},
   "outputs": [
    {
     "name": "stdout",
     "output_type": "stream",
     "text": [
      "              precision    recall  f1-score   support\n",
      "\n",
      "           0       0.78      0.97      0.87       191\n",
      "           1       0.95      0.65      0.77       152\n",
      "\n",
      "    accuracy                           0.83       343\n",
      "   macro avg       0.87      0.81      0.82       343\n",
      "weighted avg       0.86      0.83      0.82       343\n",
      "\n"
     ]
    }
   ],
   "source": [
    "from sklearn.metrics import classification_report\n",
    "targets=testt\n",
    "inputs = test\n",
    "nClasses = np.shape(targets)[1]\n",
    "outputs = net.rbffwd(inputs)\n",
    "if nClasses==1:\n",
    "    nClasses = 2\n",
    "    outputs = np.where(outputs>0,1,0)\n",
    "else:\n",
    "    # 1-of-N encoding\n",
    "    outputs = np.argmax(outputs,1)\n",
    "    targets = np.argmax(targets,1)\n",
    "\n",
    "\n",
    "print(classification_report(targets, outputs))"
   ]
  },
  {
   "cell_type": "code",
   "execution_count": 12,
   "metadata": {},
   "outputs": [
    {
     "name": "stdout",
     "output_type": "stream",
     "text": [
      "1\n",
      "Iteration:  0  Error:  171.34742384282475\n",
      "Iteration:  100  Error:  342.9999986814771\n",
      "Iteration:  200  Error:  342.99999867933263\n",
      "Iteration:  300  Error:  342.99999867680503\n",
      "Iteration:  400  Error:  342.9999986742679\n",
      "Iteration:  500  Error:  342.9999986717212\n",
      "Iteration:  600  Error:  342.99999866916494\n",
      "Iteration:  700  Error:  342.9999986665989\n",
      "Iteration:  800  Error:  342.99999866402334\n",
      "Iteration:  900  Error:  342.99999866143787\n",
      "Iteration:  1000  Error:  342.9999986588426\n",
      "Iteration:  1100  Error:  342.9999986562375\n",
      "Iteration:  1200  Error:  342.99999865362247\n",
      "Iteration:  1300  Error:  342.99999865099744\n",
      "Iteration:  1400  Error:  342.99999864836235\n",
      "Iteration:  1500  Error:  342.99999864571714\n",
      "Iteration:  1600  Error:  342.9999986430619\n",
      "Iteration:  1700  Error:  342.99999864039626\n",
      "Iteration:  1800  Error:  342.99999863772047\n",
      "Iteration:  1900  Error:  342.9999986350342\n",
      "Iteration:  2000  Error:  342.9999986323377\n",
      "Iteration:  2100  Error:  342.9999986296306\n",
      "Iteration:  2200  Error:  342.9999986269131\n",
      "Iteration:  2300  Error:  342.99999862418497\n",
      "Iteration:  2400  Error:  342.99999862144614\n",
      "Iteration:  2500  Error:  342.99999861869674\n",
      "Iteration:  2600  Error:  342.9999986159365\n",
      "Iteration:  2700  Error:  342.9999986131654\n",
      "Iteration:  2800  Error:  342.9999986103835\n",
      "Iteration:  2900  Error:  342.9999986075906\n",
      "Iteration:  3000  Error:  342.9999986047867\n",
      "Iteration:  3100  Error:  342.9999986019717\n",
      "Iteration:  3200  Error:  342.99999859914556\n",
      "Iteration:  3300  Error:  342.99999859630816\n",
      "Iteration:  3400  Error:  342.99999859345957\n",
      "Iteration:  3500  Error:  342.99999859059955\n",
      "Iteration:  3600  Error:  342.99999858772816\n",
      "Iteration:  3700  Error:  342.9999985848453\n",
      "Iteration:  3800  Error:  342.9999985819509\n",
      "Iteration:  3900  Error:  342.9999985790448\n",
      "Iteration:  4000  Error:  342.99999857612704\n",
      "Iteration:  4100  Error:  342.99999857319756\n",
      "Iteration:  4200  Error:  342.99999857025625\n",
      "Iteration:  4300  Error:  342.999998567303\n",
      "Iteration:  4400  Error:  342.99999856433783\n",
      "Iteration:  4500  Error:  342.9999985613606\n",
      "Iteration:  4600  Error:  342.9999985583712\n",
      "Iteration:  4700  Error:  342.99999855536964\n",
      "Iteration:  4800  Error:  342.99999855235586\n",
      "Iteration:  4900  Error:  342.9999985493297\n",
      "2\n",
      "Iteration:  0  Error:  342.9999985462912\n",
      "Iteration:  100  Error:  342.99999854351506\n",
      "Iteration:  200  Error:  342.99999854045257\n",
      "Iteration:  300  Error:  342.99999853737745\n",
      "Iteration:  400  Error:  342.9999985342896\n",
      "Iteration:  500  Error:  342.9999985311889\n",
      "Iteration:  600  Error:  342.9999985280754\n",
      "Iteration:  700  Error:  342.999998524949\n",
      "Iteration:  800  Error:  342.9999985218094\n",
      "Iteration:  900  Error:  342.99999851865687\n",
      "Iteration:  1000  Error:  342.999998515491\n",
      "Iteration:  1100  Error:  342.9999985123119\n",
      "Iteration:  1200  Error:  342.99999850911945\n",
      "Iteration:  1300  Error:  342.9999985059136\n",
      "Iteration:  1400  Error:  342.99999850269415\n",
      "Iteration:  1500  Error:  342.99999849946107\n",
      "Iteration:  1600  Error:  342.9999984962143\n",
      "Iteration:  1700  Error:  342.9999984929538\n",
      "Iteration:  1800  Error:  342.9999984896794\n",
      "Iteration:  1900  Error:  342.99999848639106\n",
      "Iteration:  2000  Error:  342.99999848308863\n",
      "Iteration:  2100  Error:  342.99999847977205\n",
      "Iteration:  2200  Error:  342.9999984764413\n",
      "Iteration:  2300  Error:  342.9999984730962\n",
      "Iteration:  2400  Error:  342.9999984697366\n",
      "Iteration:  2500  Error:  342.9999984663626\n",
      "Iteration:  2600  Error:  342.99999846297396\n",
      "Iteration:  2700  Error:  342.9999984595707\n",
      "Iteration:  2800  Error:  342.9999984561526\n",
      "Iteration:  2900  Error:  342.9999984527195\n",
      "Iteration:  3000  Error:  342.9999984492715\n",
      "Iteration:  3100  Error:  342.9999984458085\n",
      "Iteration:  3200  Error:  342.99999844233025\n",
      "Iteration:  3300  Error:  342.99999843883677\n",
      "Iteration:  3400  Error:  342.9999984353278\n",
      "Iteration:  3500  Error:  342.99999843180353\n",
      "Iteration:  3600  Error:  342.99999842826355\n",
      "Iteration:  3700  Error:  342.999998424708\n",
      "Iteration:  3800  Error:  342.9999984211365\n",
      "Iteration:  3900  Error:  342.99999841754925\n",
      "Iteration:  4000  Error:  342.99999841394595\n",
      "Iteration:  4100  Error:  342.99999841032655\n",
      "Iteration:  4200  Error:  342.9999984066909\n",
      "Iteration:  4300  Error:  342.99999840303906\n",
      "Iteration:  4400  Error:  342.99999839937067\n",
      "Iteration:  4500  Error:  342.9999983956858\n",
      "Iteration:  4600  Error:  342.99999839198426\n",
      "Iteration:  4700  Error:  342.99999838826596\n",
      "Iteration:  4800  Error:  342.9999983845308\n",
      "Iteration:  4900  Error:  342.99999838077866\n",
      "3\n",
      "Iteration:  0  Error:  342.99999837700943\n",
      "Iteration:  100  Error:  342.99999837356427\n",
      "Iteration:  200  Error:  342.9999983697621\n",
      "Iteration:  300  Error:  342.99999836594236\n",
      "Iteration:  400  Error:  342.99999836210515\n",
      "Iteration:  500  Error:  342.9999983582502\n",
      "Iteration:  600  Error:  342.9999983543775\n",
      "Iteration:  700  Error:  342.99999835048686\n",
      "Iteration:  800  Error:  342.99999834657814\n",
      "Iteration:  900  Error:  342.9999983426512\n",
      "Iteration:  1000  Error:  342.99999833870606\n",
      "Iteration:  1100  Error:  342.9999983347425\n",
      "Iteration:  1200  Error:  342.99999833076026\n",
      "Iteration:  1300  Error:  342.9999983267594\n",
      "Iteration:  1400  Error:  342.99999832273977\n",
      "Iteration:  1500  Error:  342.9999983187011\n",
      "Iteration:  1600  Error:  342.99999831464345\n",
      "Iteration:  1700  Error:  342.9999983105665\n",
      "Iteration:  1800  Error:  342.9999983064702\n",
      "Iteration:  1900  Error:  342.99999830235447\n",
      "Iteration:  2000  Error:  342.999998298219\n",
      "Iteration:  2100  Error:  342.9999982940639\n",
      "Iteration:  2200  Error:  342.9999982898888\n",
      "Iteration:  2300  Error:  342.9999982856937\n",
      "Iteration:  2400  Error:  342.99999828147844\n",
      "Iteration:  2500  Error:  342.99999827724275\n",
      "Iteration:  2600  Error:  342.9999982729866\n",
      "Iteration:  2700  Error:  342.9999982687099\n",
      "Iteration:  2800  Error:  342.9999982644123\n",
      "Iteration:  2900  Error:  342.99999826009383\n",
      "Iteration:  3000  Error:  342.99999825575424\n",
      "Iteration:  3100  Error:  342.99999825139344\n",
      "Iteration:  3200  Error:  342.99999824701126\n",
      "Iteration:  3300  Error:  342.9999982426075\n",
      "Iteration:  3400  Error:  342.999998238182\n",
      "Iteration:  3500  Error:  342.9999982337347\n",
      "Iteration:  3600  Error:  342.9999982292653\n",
      "Iteration:  3700  Error:  342.9999982247739\n",
      "Iteration:  3800  Error:  342.99999822025995\n",
      "Iteration:  3900  Error:  342.9999982157235\n",
      "Iteration:  4000  Error:  342.9999982111644\n",
      "Iteration:  4100  Error:  342.9999982065824\n",
      "Iteration:  4200  Error:  342.9999982019774\n",
      "Iteration:  4300  Error:  342.9999981973492\n",
      "Iteration:  4400  Error:  342.9999981926976\n",
      "Iteration:  4500  Error:  342.9999981880226\n",
      "Iteration:  4600  Error:  342.99999818332367\n",
      "Iteration:  4700  Error:  342.99999817860095\n",
      "Iteration:  4800  Error:  342.9999981738541\n",
      "Iteration:  4900  Error:  342.9999981690829\n",
      "Stopped 171.4999989582236 171.49999907941526 171.49999917581596\n",
      "Confusion matrix is:\n",
      "[[191. 152.]\n",
      " [  0.   0.]]\n",
      "Percentage Correct:  55.68513119533528\n"
     ]
    }
   ],
   "source": [
    "import MLP as mlp \n",
    "net =mlp.mlp(train,traint,20,outtype='logistic')\n",
    "net.earlystopping(train,traint,valid,validt,0.1)\n",
    "cm=net.confmat(test,testt)"
   ]
  },
  {
   "cell_type": "code",
   "execution_count": 13,
   "metadata": {},
   "outputs": [
    {
     "name": "stdout",
     "output_type": "stream",
     "text": [
      "              precision    recall  f1-score   support\n",
      "\n",
      "           0       0.56      1.00      0.72       191\n",
      "           1       0.00      0.00      0.00       152\n",
      "\n",
      "    accuracy                           0.56       343\n",
      "   macro avg       0.28      0.50      0.36       343\n",
      "weighted avg       0.31      0.56      0.40       343\n",
      "\n"
     ]
    },
    {
     "name": "stderr",
     "output_type": "stream",
     "text": [
      "/home/mona/anaconda3/lib/python3.7/site-packages/sklearn/metrics/_classification.py:1272: UndefinedMetricWarning: Precision and F-score are ill-defined and being set to 0.0 in labels with no predicted samples. Use `zero_division` parameter to control this behavior.\n",
      "  _warn_prf(average, modifier, msg_start, len(result))\n"
     ]
    }
   ],
   "source": [
    "from sklearn.metrics import classification_report\n",
    "targets=testt\n",
    "inputs=np.concatenate((test,-np.ones((np.shape(test)[0],1))),axis=1)\n",
    "nclasses=np.shape(targets)[1]\n",
    "output=net.mlpfwd(inputs)\n",
    "if nclasses==1:\n",
    "    nclasses=2\n",
    "    output=np.where(output>0.5,1,0)\n",
    "else:\n",
    "    output=np.argmax(output,1)\n",
    "    targets=np.argmax(targets,1)\n",
    "   \n",
    "print(classification_report(targets,output))"
   ]
  },
  {
   "cell_type": "code",
   "execution_count": null,
   "metadata": {},
   "outputs": [],
   "source": []
  }
 ],
 "metadata": {
  "interpreter": {
   "hash": "b3ba2566441a7c06988d0923437866b63cedc61552a5af99d1f4fb67d367b25f"
  },
  "kernelspec": {
   "display_name": "Python 3",
   "language": "python",
   "name": "python3"
  },
  "language_info": {
   "codemirror_mode": {
    "name": "ipython",
    "version": 3
   },
   "file_extension": ".py",
   "mimetype": "text/x-python",
   "name": "python",
   "nbconvert_exporter": "python",
   "pygments_lexer": "ipython3",
   "version": "3.7.6"
  }
 },
 "nbformat": 4,
 "nbformat_minor": 2
}
