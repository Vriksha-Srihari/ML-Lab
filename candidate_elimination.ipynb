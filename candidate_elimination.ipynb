{
 "cells": [
  {
   "cell_type": "code",
   "execution_count": 20,
   "metadata": {},
   "outputs": [],
   "source": [
    "import random\n",
    "import csv\n",
    "import numpy as np\n",
    "import pandas as pd"
   ]
  },
  {
   "cell_type": "code",
   "execution_count": 21,
   "metadata": {},
   "outputs": [
    {
     "name": "stdout",
     "output_type": "stream",
     "text": [
      "/home/mona/3074 ML Lab/Datasets\n"
     ]
    }
   ],
   "source": [
    "%cd \"/home/mona/3074 ML Lab/Datasets\""
   ]
  },
  {
   "cell_type": "code",
   "execution_count": 22,
   "metadata": {},
   "outputs": [],
   "source": [
    "# read data\n",
    "data = pd.read_csv('cars.csv')\n",
    "\n",
    "# colelcting X and Y\n",
    "concepts = np.array(data)[:,:-1]\n",
    "target = np.array(data)[:,-1]"
   ]
  },
  {
   "cell_type": "code",
   "execution_count": 23,
   "metadata": {},
   "outputs": [
    {
     "name": "stdout",
     "output_type": "stream",
     "text": [
      "5\n",
      "[['?', '?', '?', '?', '?'], ['?', '?', '?', '?', '?'], ['?', '?', '?', '?', '?'], ['?', '?', '?', '?', '?'], ['?', '?', '?', '?', '?']]\n"
     ]
    }
   ],
   "source": [
    "specific_h = concepts[0].copy()\n",
    "general_h = []\n",
    "n = len(data.columns) - 1\n",
    "for i in range(n):\n",
    "    general_h.append(['?'] * n)\n",
    "print(n)\n",
    "print(general_h)"
   ]
  },
  {
   "cell_type": "code",
   "execution_count": 45,
   "metadata": {},
   "outputs": [],
   "source": [
    "g0 = []\n",
    "s0 = []\n",
    "def can_elim(con, tar):\n",
    "    for i, val in enumerate(con):\n",
    "            if tar[i] == 'Yes':\n",
    "                for x in range(len(specific_h)):\n",
    "                    if val[x] != specific_h[x]:\n",
    "                        specific_h[x] = '?'\n",
    "\n",
    "            else:\n",
    "                for x in range(len(specific_h)):\n",
    "                    if val[x] != specific_h[x]:\n",
    "                        general_h[x][x] = specific_h[x]\n",
    "\n",
    "    print(specific_h)\n",
    "    print(\"\\nFinal general hypothesis:\")\n",
    "    print(general_h)\n",
    "    return None"
   ]
  },
  {
   "cell_type": "code",
   "execution_count": 46,
   "metadata": {},
   "outputs": [
    {
     "name": "stdout",
     "output_type": "stream",
     "text": [
      "Final specific hypothesis: \n",
      "['Japan' '?' '?' '?' 'Economy']\n",
      "\n",
      "Final general hypothesis:\n",
      "[['Japan', '?', '?', '?', '?'], ['?', '?', '?', '?', '?'], ['?', '?', '?', '?', '?'], ['?', '?', '?', '?', '?'], ['?', '?', '?', '?', 'Economy']]\n"
     ]
    }
   ],
   "source": [
    "print(\"Final specific hypothesis: \") \n",
    "can_elim(concepts, target)"
   ]
  },
  {
   "cell_type": "code",
   "execution_count": null,
   "metadata": {},
   "outputs": [],
   "source": []
  }
 ],
 "metadata": {
  "kernelspec": {
   "display_name": "Python 3",
   "language": "python",
   "name": "python3"
  },
  "language_info": {
   "codemirror_mode": {
    "name": "ipython",
    "version": 3
   },
   "file_extension": ".py",
   "mimetype": "text/x-python",
   "name": "python",
   "nbconvert_exporter": "python",
   "pygments_lexer": "ipython3",
   "version": "3.7.6"
  }
 },
 "nbformat": 4,
 "nbformat_minor": 4
}
